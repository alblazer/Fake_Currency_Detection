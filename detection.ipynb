{
 "cells": [
  {
   "cell_type": "code",
   "execution_count": 1,
   "metadata": {},
   "outputs": [],
   "source": [
    "#import libraries\n",
    "import pandas as pd\n",
    "import numpy as np\n",
    "import matplotlib.pyplot as plt\n",
    "import seaborn as sns"
   ]
  },
  {
   "cell_type": "code",
   "execution_count": 3,
   "metadata": {},
   "outputs": [
    {
     "name": "stdout",
     "output_type": "stream",
     "text": [
      "       var    skew    curt     entr  auth\n",
      "0  3.62160  8.6661 -2.8073 -0.44699     0\n",
      "1  4.54590  8.1674 -2.4586 -1.46210     0\n",
      "2  3.86600 -2.6383  1.9242  0.10645     0\n",
      "3  3.45660  9.5228 -4.0112 -3.59440     0\n",
      "4  0.32924 -4.4552  4.5718 -0.98880     0\n"
     ]
    }
   ],
   "source": [
    "data = pd.read_csv('currency_details.txt', header=None)\n",
    "data.columns = ['var', 'skew', 'curt', 'entr', 'auth']\n",
    "print(data.head())"
   ]
  },
  {
   "cell_type": "code",
   "execution_count": null,
   "metadata": {},
   "outputs": [],
   "source": []
  },
  {
   "cell_type": "code",
   "execution_count": null,
   "metadata": {},
   "outputs": [],
   "source": []
  }
 ],
 "metadata": {
  "kernelspec": {
   "display_name": "Python 3",
   "language": "python",
   "name": "python3"
  },
  "language_info": {
   "codemirror_mode": {
    "name": "ipython",
    "version": 3
   },
   "file_extension": ".py",
   "mimetype": "text/x-python",
   "name": "python",
   "nbconvert_exporter": "python",
   "pygments_lexer": "ipython3",
   "version": "3.8.3"
  }
 },
 "nbformat": 4,
 "nbformat_minor": 4
}
